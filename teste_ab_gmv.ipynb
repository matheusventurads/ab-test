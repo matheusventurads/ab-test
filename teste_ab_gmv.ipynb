{
 "cells": [
  {
   "cell_type": "markdown",
   "id": "bdbfb82a",
   "metadata": {},
   "source": [
    "# Introdução"
   ]
  },
  {
   "cell_type": "markdown",
   "id": "9c3f4464",
   "metadata": {},
   "source": [
    "A Electronic House é um comercio online ( e-commerce ) de produtos de informática\n",
    "para casas e escritórios. Os clientes podem comprar mouses, monitores, teclados,\n",
    "computadores, laptops, cabos HDMI, fones de ouvido, cameras webcam, entre\n",
    "outros, através de um site online e recebem os produtos no conforto de suas casas.\n",
    "\n",
    "Os produtos não são vendidos somente no Brasil, a Eletronic House está presente\n",
    "em diversos países da Europa e da América do Norte.\n",
    "\n",
    "O Diretor de Produtos Global pediu ao Head de Design que desenvolvesse uma\n",
    "nova forma de finalizar a compra com cartão de crédito, sem a necessidade do\n",
    "cliente preencher manualmente todas as informações do cartão e que funcionasse\n",
    "em todos os países.\n",
    "\n",
    "Depois de meses desenvolvendo esse dispositivo, o time de Desenvolvimento\n",
    "Backend entregou uma solução de pagamentos, na qual 90% das informações do\n",
    "formulário eram preenchido automaticamente.\n",
    "\n",
    "O Head de Designer gostaria de medir a efetividade do novo dispositivo de\n",
    "preenchimento automático dos dados do cartão de crédito na página de vendas e\n",
    "reportar os resultados ao Diretor de Produtos Global, para concluir se a nova forma\n",
    "de pagamento é realmente melhor do que a antiga.\n",
    "\n",
    "As duas páginas foram colocadas no ar e durante alguns meses e o time de Front-\n",
    "End desenvolveu uma automação que atribui um rótulo para cada cliente,\n",
    "mostrando qual a página de vendas aquele determinado cliente estava visualizando.\n",
    "Todos esses dados foram armazenados em um banco de dados e podem ser\n",
    "acessados pelos times da Electronic House."
   ]
  },
  {
   "cell_type": "markdown",
   "id": "ff4eb618",
   "metadata": {},
   "source": [
    "## Desafio"
   ]
  },
  {
   "cell_type": "markdown",
   "id": "4818b34f",
   "metadata": {
    "ExecuteTime": {
     "end_time": "2023-05-21T21:53:48.201382Z",
     "start_time": "2023-05-21T21:53:48.184882Z"
    }
   },
   "source": [
    "Depois de alguns meses de experimento, o time de Designers da Electronic House,\n",
    "precisa avaliar os resultados do experimento realizado, a fim de concluir qual era a\n",
    "forma de pagamento mais eficaz.\n",
    "\n",
    "Porém, o time não possui as habilidades necessárias para avaliar os dados e\n",
    "concluir o experimento. Nesse contexto, você foi contratado como Cientista de\n",
    "Dados para ajudar o time de Designers a validar a efetividade do novo meio de\n",
    "pagamento, com mais confiança e rigidez na análise.\n",
    "\n",
    "Qual a melhor forma de pagamento: Preenchimento Manual ou Automático do\n",
    "formulário de dados do cartão de crédito?"
   ]
  },
  {
   "cell_type": "markdown",
   "id": "d50dcf1f",
   "metadata": {},
   "source": [
    "# 0.1 IMPORTS"
   ]
  },
  {
   "cell_type": "code",
   "execution_count": 54,
   "id": "fcc615ad",
   "metadata": {
    "ExecuteTime": {
     "end_time": "2023-05-25T19:19:38.103957Z",
     "start_time": "2023-05-25T19:19:38.095549Z"
    }
   },
   "outputs": [],
   "source": [
    "import math\n",
    "import pandas as pd\n",
    "import numpy as np\n",
    "import pingouin as pg\n",
    "\n",
    "from scipy import stats\n",
    "\n",
    "from statsmodels.stats import api as sm"
   ]
  },
  {
   "cell_type": "markdown",
   "id": "54968343",
   "metadata": {},
   "source": [
    "## 0.2 Helper Functions"
   ]
  },
  {
   "cell_type": "code",
   "execution_count": 59,
   "id": "68d13fd2",
   "metadata": {
    "ExecuteTime": {
     "end_time": "2023-05-25T19:24:57.617935Z",
     "start_time": "2023-05-25T19:24:57.606681Z"
    }
   },
   "outputs": [],
   "source": [
    "#define F-test function\n",
    "def f_test(x, y, alpha):\n",
    "    \"\"\"\n",
    "    x: amostra com maior variancia\n",
    "    y: amostra com menor variancia\n",
    "    \"\"\"\n",
    "    x = np.array(x)\n",
    "    y = np.array(y)\n",
    "    f = np.var(x, ddof=1)/np.var(y, ddof=1) #calculate F test statistic \n",
    "    dfn = x.size-1 #define degrees of freedom numerator \n",
    "    dfd = y.size-1 #define degrees of freedom denominator \n",
    "    p = 1-stats.f.cdf(f, dfn, dfd) #find p-value of F test statistic\n",
    "    \n",
    "    fc_upper = stats.f.ppf(1-(alpha/2), dfn, dfd)\n",
    "    fc_lower = stats.f.ppf(alpha/2, dfn, dfd)\n",
    "\n",
    "    print(f'F estatístico: {f}')\n",
    "    if (f < fc_lower) or (f > fc_upper):\n",
    "        print('Hipótese nula rejeitada: Variâncias não são próximas')\n",
    "    else:\n",
    "        print('Não há evidências suficientes, hipótese nula não pode ser rejeitada')"
   ]
  },
  {
   "cell_type": "markdown",
   "id": "6d204389",
   "metadata": {},
   "source": [
    "# 1.0 Load dataset"
   ]
  },
  {
   "cell_type": "code",
   "execution_count": 2,
   "id": "0ac48731",
   "metadata": {
    "ExecuteTime": {
     "end_time": "2023-05-25T18:29:30.417629Z",
     "start_time": "2023-05-25T18:29:30.348164Z"
    }
   },
   "outputs": [],
   "source": [
    "data_raw = pd.read_csv('../datasets/ab_testing.csv')"
   ]
  },
  {
   "cell_type": "code",
   "execution_count": 3,
   "id": "45ef8ec1",
   "metadata": {
    "ExecuteTime": {
     "end_time": "2023-05-25T18:29:31.906706Z",
     "start_time": "2023-05-25T18:29:31.864660Z"
    }
   },
   "outputs": [
    {
     "data": {
      "text/html": [
       "<div>\n",
       "<style scoped>\n",
       "    .dataframe tbody tr th:only-of-type {\n",
       "        vertical-align: middle;\n",
       "    }\n",
       "\n",
       "    .dataframe tbody tr th {\n",
       "        vertical-align: top;\n",
       "    }\n",
       "\n",
       "    .dataframe thead th {\n",
       "        text-align: right;\n",
       "    }\n",
       "</style>\n",
       "<table border=\"1\" class=\"dataframe\">\n",
       "  <thead>\n",
       "    <tr style=\"text-align: right;\">\n",
       "      <th></th>\n",
       "      <th>uid</th>\n",
       "      <th>country</th>\n",
       "      <th>gender</th>\n",
       "      <th>spent</th>\n",
       "      <th>purchases</th>\n",
       "      <th>date</th>\n",
       "      <th>group</th>\n",
       "      <th>device</th>\n",
       "    </tr>\n",
       "  </thead>\n",
       "  <tbody>\n",
       "    <tr>\n",
       "      <th>0</th>\n",
       "      <td>11115722</td>\n",
       "      <td>MEX</td>\n",
       "      <td>F</td>\n",
       "      <td>1595</td>\n",
       "      <td>5</td>\n",
       "      <td>2016-03-08</td>\n",
       "      <td>GRP B</td>\n",
       "      <td>I</td>\n",
       "    </tr>\n",
       "    <tr>\n",
       "      <th>1</th>\n",
       "      <td>11122053</td>\n",
       "      <td>USA</td>\n",
       "      <td>M</td>\n",
       "      <td>498</td>\n",
       "      <td>2</td>\n",
       "      <td>2017-07-14</td>\n",
       "      <td>GRP B</td>\n",
       "      <td>I</td>\n",
       "    </tr>\n",
       "    <tr>\n",
       "      <th>2</th>\n",
       "      <td>11128688</td>\n",
       "      <td>USA</td>\n",
       "      <td>F</td>\n",
       "      <td>2394</td>\n",
       "      <td>6</td>\n",
       "      <td>2017-09-17</td>\n",
       "      <td>GRP A</td>\n",
       "      <td>I</td>\n",
       "    </tr>\n",
       "    <tr>\n",
       "      <th>3</th>\n",
       "      <td>11130578</td>\n",
       "      <td>USA</td>\n",
       "      <td>F</td>\n",
       "      <td>1197</td>\n",
       "      <td>3</td>\n",
       "      <td>2017-11-30</td>\n",
       "      <td>GRP A</td>\n",
       "      <td>I</td>\n",
       "    </tr>\n",
       "    <tr>\n",
       "      <th>4</th>\n",
       "      <td>11130759</td>\n",
       "      <td>ESP</td>\n",
       "      <td>M</td>\n",
       "      <td>1297</td>\n",
       "      <td>3</td>\n",
       "      <td>2018-01-10</td>\n",
       "      <td>GRP B</td>\n",
       "      <td>A</td>\n",
       "    </tr>\n",
       "  </tbody>\n",
       "</table>\n",
       "</div>"
      ],
      "text/plain": [
       "        uid country gender  spent  purchases        date  group device\n",
       "0  11115722     MEX      F   1595          5  2016-03-08  GRP B      I\n",
       "1  11122053     USA      M    498          2  2017-07-14  GRP B      I\n",
       "2  11128688     USA      F   2394          6  2017-09-17  GRP A      I\n",
       "3  11130578     USA      F   1197          3  2017-11-30  GRP A      I\n",
       "4  11130759     ESP      M   1297          3  2018-01-10  GRP B      A"
      ]
     },
     "execution_count": 3,
     "metadata": {},
     "output_type": "execute_result"
    }
   ],
   "source": [
    "data_raw.head()"
   ]
  },
  {
   "cell_type": "code",
   "execution_count": 4,
   "id": "480c3951",
   "metadata": {
    "ExecuteTime": {
     "end_time": "2023-05-25T18:29:34.013916Z",
     "start_time": "2023-05-25T18:29:34.003515Z"
    }
   },
   "outputs": [
    {
     "data": {
      "text/plain": [
       "(45883, 8)"
      ]
     },
     "execution_count": 4,
     "metadata": {},
     "output_type": "execute_result"
    }
   ],
   "source": [
    "data_raw.shape"
   ]
  },
  {
   "cell_type": "markdown",
   "id": "91b65447",
   "metadata": {},
   "source": [
    "# 2.0 Design de Experimentos"
   ]
  },
  {
   "cell_type": "markdown",
   "id": "48c28429",
   "metadata": {},
   "source": [
    "## 2.1 Formulação das Hipóteses"
   ]
  },
  {
   "cell_type": "markdown",
   "id": "23f765db",
   "metadata": {},
   "source": [
    "H0: A média de faturamento não é afetada pela página.\n",
    "\n",
    "H1: A média de faturamento da página nova é maior."
   ]
  },
  {
   "cell_type": "markdown",
   "id": "5f14b01c",
   "metadata": {},
   "source": [
    "## 2.2 Parâmetros do Experimento"
   ]
  },
  {
   "cell_type": "code",
   "execution_count": 7,
   "id": "f1645841",
   "metadata": {
    "ExecuteTime": {
     "end_time": "2023-05-25T18:29:42.819709Z",
     "start_time": "2023-05-25T18:29:42.794647Z"
    }
   },
   "outputs": [
    {
     "name": "stdout",
     "output_type": "stream",
     "text": [
      "Control Group Size: 22874\n",
      "Treatment Group Size: 23009\n"
     ]
    }
   ],
   "source": [
    "df_control = data_raw[data_raw['group'] == 'GRP B']\n",
    "df_treatment = data_raw[data_raw['group'] == 'GRP A']\n",
    "\n",
    "print(f'Control Group Size: {df_control.shape[0]}')\n",
    "print(f'Treatment Group Size: {df_treatment.shape[0]}')"
   ]
  },
  {
   "cell_type": "markdown",
   "id": "dad77562",
   "metadata": {},
   "source": [
    "A métrica definida foi GMV (Gross Margin Revenue).\n",
    "\n",
    "Com base no GMV médio do grupo controle (considerado como a média histórica), estima-se uma melhora de 5% com a nova feature desenvolvida para pagamentos."
   ]
  },
  {
   "cell_type": "code",
   "execution_count": 102,
   "id": "e490ac51",
   "metadata": {
    "ExecuteTime": {
     "end_time": "2023-05-25T19:58:53.180962Z",
     "start_time": "2023-05-25T19:58:53.173950Z"
    }
   },
   "outputs": [],
   "source": [
    "init_metric = df_control['spent'].mean()\n",
    "std_metric = df_control['spent'].std()\n",
    "\n",
    "end_metric = init_metric*(1.05)"
   ]
  },
  {
   "cell_type": "code",
   "execution_count": 103,
   "id": "f268535e",
   "metadata": {
    "ExecuteTime": {
     "end_time": "2023-05-25T19:58:53.986539Z",
     "start_time": "2023-05-25T19:58:53.980967Z"
    }
   },
   "outputs": [],
   "source": [
    "# nível de confiança\n",
    "confidence_level = 0.95\n",
    "\n",
    "# nível de significância\n",
    "significance_level = 0.05\n",
    "\n",
    "# tamanho do efeito - Glass' Delta\n",
    "effect_size = (end_metric - init_metric)/std_metric\n",
    "\n",
    "# poder estatístico\n",
    "power = 0.80"
   ]
  },
  {
   "cell_type": "code",
   "execution_count": 104,
   "id": "c3aa6b8a",
   "metadata": {
    "ExecuteTime": {
     "end_time": "2023-05-25T19:58:56.508974Z",
     "start_time": "2023-05-25T19:58:56.483200Z"
    }
   },
   "outputs": [],
   "source": [
    "# sample size\n",
    "sample_n = math.ceil(sm.tt_ind_solve_power(\n",
    "    effect_size,\n",
    "    power=power,\n",
    "    alpha=significance_level\n",
    "))"
   ]
  },
  {
   "cell_type": "code",
   "execution_count": 105,
   "id": "ab64ae2c",
   "metadata": {
    "ExecuteTime": {
     "end_time": "2023-05-25T19:58:56.901799Z",
     "start_time": "2023-05-25T19:58:56.886213Z"
    }
   },
   "outputs": [
    {
     "name": "stdout",
     "output_type": "stream",
     "text": [
      "O tamanho da amostra do a ser coletado de ambos os grupos é de :3262\n",
      "Tamanho total da amostra: 6524\n"
     ]
    }
   ],
   "source": [
    "print(f'O tamanho da amostra do a ser coletado de ambos os grupos é de :{sample_n}')\n",
    "print(f'Tamanho total da amostra: {2*sample_n}')"
   ]
  },
  {
   "cell_type": "markdown",
   "id": "bdac99b0",
   "metadata": {
    "ExecuteTime": {
     "end_time": "2023-05-25T18:52:06.050131Z",
     "start_time": "2023-05-25T18:52:06.045639Z"
    }
   },
   "source": [
    "# 3.0 Análise Descritiva dos Dados"
   ]
  },
  {
   "cell_type": "code",
   "execution_count": 70,
   "id": "163e46cc",
   "metadata": {
    "ExecuteTime": {
     "end_time": "2023-05-25T19:34:45.981173Z",
     "start_time": "2023-05-25T19:34:45.975594Z"
    }
   },
   "outputs": [],
   "source": [
    "df3 = data_raw.copy()"
   ]
  },
  {
   "cell_type": "code",
   "execution_count": 84,
   "id": "31f8b47e",
   "metadata": {
    "ExecuteTime": {
     "end_time": "2023-05-25T19:43:14.775184Z",
     "start_time": "2023-05-25T19:43:14.733639Z"
    }
   },
   "outputs": [
    {
     "data": {
      "text/html": [
       "<div>\n",
       "<style scoped>\n",
       "    .dataframe tbody tr th:only-of-type {\n",
       "        vertical-align: middle;\n",
       "    }\n",
       "\n",
       "    .dataframe tbody tr th {\n",
       "        vertical-align: top;\n",
       "    }\n",
       "\n",
       "    .dataframe thead tr th {\n",
       "        text-align: left;\n",
       "    }\n",
       "\n",
       "    .dataframe thead tr:last-of-type th {\n",
       "        text-align: right;\n",
       "    }\n",
       "</style>\n",
       "<table border=\"1\" class=\"dataframe\">\n",
       "  <thead>\n",
       "    <tr>\n",
       "      <th></th>\n",
       "      <th></th>\n",
       "      <th colspan=\"2\" halign=\"left\">spent</th>\n",
       "      <th colspan=\"3\" halign=\"left\">purchases</th>\n",
       "    </tr>\n",
       "    <tr>\n",
       "      <th></th>\n",
       "      <th></th>\n",
       "      <th>min</th>\n",
       "      <th>max</th>\n",
       "      <th>min</th>\n",
       "      <th>mean</th>\n",
       "      <th>max</th>\n",
       "    </tr>\n",
       "    <tr>\n",
       "      <th>group</th>\n",
       "      <th>country</th>\n",
       "      <th></th>\n",
       "      <th></th>\n",
       "      <th></th>\n",
       "      <th></th>\n",
       "      <th></th>\n",
       "    </tr>\n",
       "  </thead>\n",
       "  <tbody>\n",
       "    <tr>\n",
       "      <th rowspan=\"10\" valign=\"top\">GRP A</th>\n",
       "      <th>AUS</th>\n",
       "      <td>99</td>\n",
       "      <td>8379</td>\n",
       "      <td>1</td>\n",
       "      <td>4.711462</td>\n",
       "      <td>21</td>\n",
       "    </tr>\n",
       "    <tr>\n",
       "      <th>BRA</th>\n",
       "      <td>99</td>\n",
       "      <td>10480</td>\n",
       "      <td>1</td>\n",
       "      <td>4.568172</td>\n",
       "      <td>24</td>\n",
       "    </tr>\n",
       "    <tr>\n",
       "      <th>CAN</th>\n",
       "      <td>99</td>\n",
       "      <td>9079</td>\n",
       "      <td>1</td>\n",
       "      <td>4.381089</td>\n",
       "      <td>21</td>\n",
       "    </tr>\n",
       "    <tr>\n",
       "      <th>DEU</th>\n",
       "      <td>99</td>\n",
       "      <td>10278</td>\n",
       "      <td>1</td>\n",
       "      <td>4.414286</td>\n",
       "      <td>23</td>\n",
       "    </tr>\n",
       "    <tr>\n",
       "      <th>ESP</th>\n",
       "      <td>99</td>\n",
       "      <td>8581</td>\n",
       "      <td>1</td>\n",
       "      <td>4.364948</td>\n",
       "      <td>19</td>\n",
       "    </tr>\n",
       "    <tr>\n",
       "      <th>FRA</th>\n",
       "      <td>99</td>\n",
       "      <td>7781</td>\n",
       "      <td>1</td>\n",
       "      <td>4.574320</td>\n",
       "      <td>21</td>\n",
       "    </tr>\n",
       "    <tr>\n",
       "      <th>GBR</th>\n",
       "      <td>99</td>\n",
       "      <td>8383</td>\n",
       "      <td>1</td>\n",
       "      <td>4.421356</td>\n",
       "      <td>20</td>\n",
       "    </tr>\n",
       "    <tr>\n",
       "      <th>MEX</th>\n",
       "      <td>99</td>\n",
       "      <td>9677</td>\n",
       "      <td>1</td>\n",
       "      <td>4.570686</td>\n",
       "      <td>23</td>\n",
       "    </tr>\n",
       "    <tr>\n",
       "      <th>TUR</th>\n",
       "      <td>99</td>\n",
       "      <td>11176</td>\n",
       "      <td>1</td>\n",
       "      <td>4.582730</td>\n",
       "      <td>24</td>\n",
       "    </tr>\n",
       "    <tr>\n",
       "      <th>USA</th>\n",
       "      <td>99</td>\n",
       "      <td>10675</td>\n",
       "      <td>1</td>\n",
       "      <td>4.564602</td>\n",
       "      <td>25</td>\n",
       "    </tr>\n",
       "    <tr>\n",
       "      <th rowspan=\"10\" valign=\"top\">GRP B</th>\n",
       "      <th>AUS</th>\n",
       "      <td>99</td>\n",
       "      <td>7882</td>\n",
       "      <td>1</td>\n",
       "      <td>4.379648</td>\n",
       "      <td>18</td>\n",
       "    </tr>\n",
       "    <tr>\n",
       "      <th>BRA</th>\n",
       "      <td>99</td>\n",
       "      <td>10478</td>\n",
       "      <td>1</td>\n",
       "      <td>4.585393</td>\n",
       "      <td>23</td>\n",
       "    </tr>\n",
       "    <tr>\n",
       "      <th>CAN</th>\n",
       "      <td>99</td>\n",
       "      <td>7284</td>\n",
       "      <td>1</td>\n",
       "      <td>4.587730</td>\n",
       "      <td>17</td>\n",
       "    </tr>\n",
       "    <tr>\n",
       "      <th>DEU</th>\n",
       "      <td>99</td>\n",
       "      <td>9583</td>\n",
       "      <td>1</td>\n",
       "      <td>4.584718</td>\n",
       "      <td>20</td>\n",
       "    </tr>\n",
       "    <tr>\n",
       "      <th>ESP</th>\n",
       "      <td>99</td>\n",
       "      <td>8980</td>\n",
       "      <td>1</td>\n",
       "      <td>4.764523</td>\n",
       "      <td>20</td>\n",
       "    </tr>\n",
       "    <tr>\n",
       "      <th>FRA</th>\n",
       "      <td>99</td>\n",
       "      <td>8981</td>\n",
       "      <td>1</td>\n",
       "      <td>4.591199</td>\n",
       "      <td>20</td>\n",
       "    </tr>\n",
       "    <tr>\n",
       "      <th>GBR</th>\n",
       "      <td>99</td>\n",
       "      <td>10176</td>\n",
       "      <td>1</td>\n",
       "      <td>4.537597</td>\n",
       "      <td>24</td>\n",
       "    </tr>\n",
       "    <tr>\n",
       "      <th>MEX</th>\n",
       "      <td>99</td>\n",
       "      <td>9877</td>\n",
       "      <td>1</td>\n",
       "      <td>4.531794</td>\n",
       "      <td>23</td>\n",
       "    </tr>\n",
       "    <tr>\n",
       "      <th>TUR</th>\n",
       "      <td>99</td>\n",
       "      <td>8386</td>\n",
       "      <td>1</td>\n",
       "      <td>4.566016</td>\n",
       "      <td>19</td>\n",
       "    </tr>\n",
       "    <tr>\n",
       "      <th>USA</th>\n",
       "      <td>99</td>\n",
       "      <td>12170</td>\n",
       "      <td>1</td>\n",
       "      <td>4.502475</td>\n",
       "      <td>30</td>\n",
       "    </tr>\n",
       "  </tbody>\n",
       "</table>\n",
       "</div>"
      ],
      "text/plain": [
       "              spent        purchases              \n",
       "                min    max       min      mean max\n",
       "group country                                     \n",
       "GRP A AUS        99   8379         1  4.711462  21\n",
       "      BRA        99  10480         1  4.568172  24\n",
       "      CAN        99   9079         1  4.381089  21\n",
       "      DEU        99  10278         1  4.414286  23\n",
       "      ESP        99   8581         1  4.364948  19\n",
       "      FRA        99   7781         1  4.574320  21\n",
       "      GBR        99   8383         1  4.421356  20\n",
       "      MEX        99   9677         1  4.570686  23\n",
       "      TUR        99  11176         1  4.582730  24\n",
       "      USA        99  10675         1  4.564602  25\n",
       "GRP B AUS        99   7882         1  4.379648  18\n",
       "      BRA        99  10478         1  4.585393  23\n",
       "      CAN        99   7284         1  4.587730  17\n",
       "      DEU        99   9583         1  4.584718  20\n",
       "      ESP        99   8980         1  4.764523  20\n",
       "      FRA        99   8981         1  4.591199  20\n",
       "      GBR        99  10176         1  4.537597  24\n",
       "      MEX        99   9877         1  4.531794  23\n",
       "      TUR        99   8386         1  4.566016  19\n",
       "      USA        99  12170         1  4.502475  30"
      ]
     },
     "execution_count": 84,
     "metadata": {},
     "output_type": "execute_result"
    }
   ],
   "source": [
    "df3.groupby(['group', 'country']).agg({'spent': ['min', 'max'],\n",
    "                          'purchases': ['min', 'mean', 'max']})"
   ]
  },
  {
   "cell_type": "markdown",
   "id": "d4ceadf4",
   "metadata": {},
   "source": [
    "## Verificação dos dados faltantes"
   ]
  },
  {
   "cell_type": "code",
   "execution_count": 71,
   "id": "3c2f4ad2",
   "metadata": {
    "ExecuteTime": {
     "end_time": "2023-05-25T19:34:46.879921Z",
     "start_time": "2023-05-25T19:34:46.757072Z"
    }
   },
   "outputs": [
    {
     "data": {
      "text/plain": [
       "uid          0\n",
       "country      0\n",
       "gender       0\n",
       "spent        0\n",
       "purchases    0\n",
       "date         0\n",
       "group        0\n",
       "device       0\n",
       "dtype: int64"
      ]
     },
     "execution_count": 71,
     "metadata": {},
     "output_type": "execute_result"
    }
   ],
   "source": [
    "df3.isna().sum()"
   ]
  },
  {
   "cell_type": "markdown",
   "id": "08b78e7a",
   "metadata": {},
   "source": [
    "## Conferir flags"
   ]
  },
  {
   "cell_type": "code",
   "execution_count": 72,
   "id": "42086321",
   "metadata": {
    "ExecuteTime": {
     "end_time": "2023-05-25T19:34:52.624001Z",
     "start_time": "2023-05-25T19:34:52.593607Z"
    }
   },
   "outputs": [
    {
     "data": {
      "text/html": [
       "<div>\n",
       "<style scoped>\n",
       "    .dataframe tbody tr th:only-of-type {\n",
       "        vertical-align: middle;\n",
       "    }\n",
       "\n",
       "    .dataframe tbody tr th {\n",
       "        vertical-align: top;\n",
       "    }\n",
       "\n",
       "    .dataframe thead th {\n",
       "        text-align: right;\n",
       "    }\n",
       "</style>\n",
       "<table border=\"1\" class=\"dataframe\">\n",
       "  <thead>\n",
       "    <tr style=\"text-align: right;\">\n",
       "      <th></th>\n",
       "      <th>group</th>\n",
       "      <th>uid</th>\n",
       "    </tr>\n",
       "  </thead>\n",
       "  <tbody>\n",
       "    <tr>\n",
       "      <th>0</th>\n",
       "      <td>GRP A</td>\n",
       "      <td>23009</td>\n",
       "    </tr>\n",
       "    <tr>\n",
       "      <th>1</th>\n",
       "      <td>GRP B</td>\n",
       "      <td>22874</td>\n",
       "    </tr>\n",
       "  </tbody>\n",
       "</table>\n",
       "</div>"
      ],
      "text/plain": [
       "   group    uid\n",
       "0  GRP A  23009\n",
       "1  GRP B  22874"
      ]
     },
     "execution_count": 72,
     "metadata": {},
     "output_type": "execute_result"
    }
   ],
   "source": [
    "df3[['uid', 'group']].groupby(['group']).count().reset_index()"
   ]
  },
  {
   "cell_type": "markdown",
   "id": "ba3ad44b",
   "metadata": {},
   "source": [
    "## Amostragem dos grupos de tratamento e controle"
   ]
  },
  {
   "cell_type": "code",
   "execution_count": 95,
   "id": "b7fead6b",
   "metadata": {
    "ExecuteTime": {
     "end_time": "2023-05-25T19:57:03.195115Z",
     "start_time": "2023-05-25T19:57:03.175901Z"
    }
   },
   "outputs": [],
   "source": [
    "# Control group\n",
    "df_control_sample = df_control.sample(n=sample_n, random_state=12)\n",
    "\n",
    "# Treatment group\n",
    "df_treatment_sample = df_treatment.sample(n=sample_n, random_state=12)"
   ]
  },
  {
   "cell_type": "markdown",
   "id": "f0a6b757",
   "metadata": {},
   "source": [
    "## Cálculo da métrica de interesse"
   ]
  },
  {
   "cell_type": "code",
   "execution_count": 106,
   "id": "db4dd148",
   "metadata": {
    "ExecuteTime": {
     "end_time": "2023-05-25T19:59:05.584318Z",
     "start_time": "2023-05-25T19:59:05.577488Z"
    }
   },
   "outputs": [
    {
     "name": "stdout",
     "output_type": "stream",
     "text": [
      "Control Mean GMV : 1887.28\n",
      "Treatment Mean GMV : 1868.16\n"
     ]
    }
   ],
   "source": [
    "print('Control Mean GMV : {:.2f}'.format(df_control_sample['spent'].mean()))\n",
    "print('Treatment Mean GMV : {:.2f}'.format(df_treatment_sample['spent'].mean()))"
   ]
  },
  {
   "cell_type": "markdown",
   "id": "9fcdb4f2",
   "metadata": {},
   "source": [
    "# 4.0 Teste de Hipóteses"
   ]
  },
  {
   "cell_type": "code",
   "execution_count": 107,
   "id": "b1fca781",
   "metadata": {
    "ExecuteTime": {
     "end_time": "2023-05-25T19:59:07.680678Z",
     "start_time": "2023-05-25T19:59:07.273774Z"
    }
   },
   "outputs": [
    {
     "data": {
      "image/png": "[encoded data removed]",
      "text/plain": [
       "<Figure size 640x480 with 1 Axes>"
      ]
     },
     "metadata": {},
     "output_type": "display_data"
    }
   ],
   "source": [
    "df_control_sample['spent'].hist()\n",
    "df_treatment_sample['spent'].hist();"
   ]
  },
  {
   "cell_type": "markdown",
   "id": "d663a91c",
   "metadata": {},
   "source": [
    "## Teste de Normalidade - Shapiro-Wilk"
   ]
  },
  {
   "cell_type": "markdown",
   "id": "5ad4e3c5",
   "metadata": {},
   "source": [
    "H0: Distribuição normalmente distribuída\n",
    "\n",
    "H1: Distribuição não normal"
   ]
  },
  {
   "cell_type": "code",
   "execution_count": 108,
   "id": "f57cd707",
   "metadata": {
    "ExecuteTime": {
     "end_time": "2023-05-25T19:59:10.600757Z",
     "start_time": "2023-05-25T19:59:10.588726Z"
    }
   },
   "outputs": [
    {
     "name": "stdout",
     "output_type": "stream",
     "text": [
      "p-value control : 1.2452401983782016e-38\n",
      "p-value treatment: 1.2459505165697679e-40\n",
      "\n",
      "Var control: 1856262.3438713101\n",
      "Var treatment: 1883054.8635010624\n"
     ]
    }
   ],
   "source": [
    "_, pvalue1 = stats.shapiro(df_control_sample['spent'])\n",
    "print(f'p-value control : {pvalue1}')\n",
    "_, pvalue2 = stats.shapiro(df_treatment_sample['spent'])\n",
    "print(f'p-value treatment: {pvalue2}')\n",
    "\n",
    "print('\\nVar control: {}'.format(np.var(df_control_sample['spent'])))\n",
    "print('Var treatment: {}'.format(np.var(df_treatment_sample['spent'])))"
   ]
  },
  {
   "cell_type": "markdown",
   "id": "72310a34",
   "metadata": {},
   "source": [
    "As amostras não são normalmente distribuídas."
   ]
  },
  {
   "cell_type": "markdown",
   "id": "264a0d83",
   "metadata": {},
   "source": [
    "## Teste de Variância - F-Test"
   ]
  },
  {
   "cell_type": "markdown",
   "id": "2c459ab2",
   "metadata": {},
   "source": [
    "H0: Variâncias são iguais\n",
    "\n",
    "H1: Variâncias são diferentes"
   ]
  },
  {
   "cell_type": "code",
   "execution_count": 109,
   "id": "ec858c80",
   "metadata": {
    "ExecuteTime": {
     "end_time": "2023-05-25T19:59:16.672483Z",
     "start_time": "2023-05-25T19:59:16.662278Z"
    }
   },
   "outputs": [
    {
     "name": "stdout",
     "output_type": "stream",
     "text": [
      "F estatístico: 0.9857717795965125\n",
      "Não há evidências suficientes, hipótese nula não pode ser rejeitada\n"
     ]
    }
   ],
   "source": [
    "f_test(df_control_sample['spent'], df_treatment_sample['spent'], alpha=0.05)"
   ]
  },
  {
   "cell_type": "markdown",
   "id": "09f7a2b3",
   "metadata": {},
   "source": [
    "Não há evidências suficientes para afirmar que a variância das amostras é diferente."
   ]
  },
  {
   "cell_type": "markdown",
   "id": "74b3707d",
   "metadata": {},
   "source": [
    "## Mann-Whitney U-test (Condições paramétricas não satisfeitas)"
   ]
  },
  {
   "cell_type": "markdown",
   "id": "630f2f17",
   "metadata": {},
   "source": [
    "H0: não há diferença no GMV médio das páginas\n",
    "\n",
    "H1: o GMV média das páginas é diferente"
   ]
  },
  {
   "cell_type": "code",
   "execution_count": 110,
   "id": "908f9512",
   "metadata": {
    "ExecuteTime": {
     "end_time": "2023-05-25T19:59:19.772889Z",
     "start_time": "2023-05-25T19:59:19.752757Z"
    }
   },
   "outputs": [
    {
     "name": "stdout",
     "output_type": "stream",
     "text": [
      "p-value : 0.4832103974256091\n",
      "Falha ao rejeitar a hipótese nula\n"
     ]
    }
   ],
   "source": [
    "statistic, pvalue = stats.mannwhitneyu(df_control_sample['spent'], df_treatment_sample['spent'])\n",
    "\n",
    "print(f'p-value : {pvalue}')\n",
    "\n",
    "alpha = 0.05\n",
    "if pvalue < alpha:\n",
    "    print('Rejeita a hipótese nula')\n",
    "else:\n",
    "    print('Falha ao rejeitar a hipótese nula')"
   ]
  },
  {
   "cell_type": "markdown",
   "id": "264c971f",
   "metadata": {},
   "source": [
    "Com os dados coletados não é possível afirmar que a diferença é significante.\n",
    "\n",
    "As opções para seguir com o teste são:\n",
    "* Coletar mais dados\n",
    "* Melhorar o efeito aprimorando a página\n",
    "* Verificar a eficácia do novo disposito por país"
   ]
  }
 ],
 "metadata": {
  "kernelspec": {
   "display_name": "Python 3 (ipykernel)",
   "language": "python",
   "name": "python3"
  },
  "language_info": {
   "codemirror_mode": {
    "name": "ipython",
    "version": 3
   },
   "file_extension": ".py",
   "mimetype": "text/x-python",
   "name": "python",
   "nbconvert_exporter": "python",
   "pygments_lexer": "ipython3",
   "version": "3.10.7"
  }
 },
 "nbformat": 4,
 "nbformat_minor": 5
}
