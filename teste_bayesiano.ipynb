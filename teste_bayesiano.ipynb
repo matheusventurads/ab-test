{
 "cells": [
  {
   "cell_type": "markdown",
   "id": "265291ad",
   "metadata": {},
   "source": [
    "# iSketch"
   ]
  },
  {
   "cell_type": "markdown",
   "id": "38a1a8e9",
   "metadata": {},
   "source": [
    "A empresa iSketch, localizada em São Paulo, farica e disponibiliza um software com foco no desenvolvimento 3D de projetos para construção civil, como forma de prototipagem de grandes projetos.\n",
    "\n",
    "Para usar o software, o cliente precisa adquirir uma licença de uso que se renova anualmente.\n",
    "\n",
    "Uma das estratégias de aquisição de clientes da iSketch é a captura do e-mail dos clientes em torca de uma Newsletter com conteúdos semanais sobre a construção civil. A assinatura da newsletter permite começar um relacionamento entre a iSketch e as pessoas, a fim de mostrar as vantagens de utilizar o software para criar protótipos de construções civis.\n",
    "\n",
    "Portanto, a melhoria de conversão da página de captura de e-mail, ofertando a newsletter em troca, é crucial para o crescimento do número de clientes.\n",
    "\n",
    "Sendo assim, o coordenador de Marketing da empresa pediu ao time de Designers que criassem uma nova página de captura de e-mail com uma pequena modificação nas cores do botão de \"sign up\", a fim de aumentar a conversão da página.\n",
    "\n",
    "O time de Designers criaram uma página com o botão de \"sig up\" vermelho para ser testada contra a página atual que possui o botão azul. O coordenador de Marketing tem pressa em testar a nova página, pois a empresa vem adquirindo poucos clientes nas últimas semanas e isso pode comprometer o faturamento anual da empresa.\n",
    "\n",
    "O time de Cientistas de Dados da iSketch foi acionado com a missão de testar a nova página de captura de e-mail o mais rápido possível. A primeira ideia foi plenejar um experimento de teste A/B entre as duas páginas por um período de 7 dias, para concluir a efetividade da mudança da cor do botão. Porém, o coordenador de Marketing categoricamente disse ao time de dados que não poderia esperar 7 dias e solicitou que concluíssem em menos tempo."
   ]
  },
  {
   "cell_type": "markdown",
   "id": "0b1f90d8",
   "metadata": {},
   "source": [
    "# Planejamento da Solução"
   ]
  },
  {
   "cell_type": "markdown",
   "id": "933dda8e",
   "metadata": {},
   "source": [
    "**Input - Output - Tasks**\n",
    "\n",
    "_Input_:\n",
    "- Conjunto de dados\n",
    "- Problema de negócio\n",
    "\n",
    "_Output_:\n",
    "- E-mail\n",
    "\n",
    "_Tasks_:\n",
    "- Teste de Hipótese\n",
    "- Definir o método de inferência estatística (ANOVA, t-test, Chi-Squared)\n",
    "- Design de Experimento\n",
    "    - Hipóteses\n",
    "    - Tamanho da Amostra\n",
    "    - Efeito esperado"
   ]
  },
  {
   "cell_type": "markdown",
   "id": "47ad70e9",
   "metadata": {},
   "source": [
    "## 0.1 Imports"
   ]
  },
  {
   "cell_type": "code",
   "execution_count": 69,
   "id": "254d1d5c",
   "metadata": {
    "ExecuteTime": {
     "end_time": "2023-05-27T09:54:34.013097Z",
     "start_time": "2023-05-27T09:54:33.973279Z"
    }
   },
   "outputs": [],
   "source": [
    "import pandas as pd\n",
    "import numpy as np\n",
    "\n",
    "from statsmodels.stats.gof import chisquare_effectsize\n",
    "from statsmodels.stats.power import TTestIndPower\n",
    "from statsmodels.sandbox.stats.multicomp import multipletests\n",
    "\n",
    "from scipy import stats\n",
    "from itertools import combinations\n",
    "from IPython.display import Image"
   ]
  },
  {
   "cell_type": "markdown",
   "id": "82ca73a3",
   "metadata": {},
   "source": [
    "## 0.2 Load data"
   ]
  },
  {
   "cell_type": "code",
   "execution_count": 68,
   "id": "dde43ae1",
   "metadata": {
    "ExecuteTime": {
     "end_time": "2023-05-27T09:31:36.303121Z",
     "start_time": "2023-05-27T09:31:36.267946Z"
    }
   },
   "outputs": [
    {
     "data": {
      "text/html": [
       "<div>\n",
       "<style scoped>\n",
       "    .dataframe tbody tr th:only-of-type {\n",
       "        vertical-align: middle;\n",
       "    }\n",
       "\n",
       "    .dataframe tbody tr th {\n",
       "        vertical-align: top;\n",
       "    }\n",
       "\n",
       "    .dataframe thead th {\n",
       "        text-align: right;\n",
       "    }\n",
       "</style>\n",
       "<table border=\"1\" class=\"dataframe\">\n",
       "  <thead>\n",
       "    <tr style=\"text-align: right;\">\n",
       "      <th></th>\n",
       "      <th>variant</th>\n",
       "      <th>visits</th>\n",
       "      <th>clicks_all</th>\n",
       "      <th>clicks_link</th>\n",
       "      <th>conversion</th>\n",
       "    </tr>\n",
       "  </thead>\n",
       "  <tbody>\n",
       "    <tr>\n",
       "      <th>0</th>\n",
       "      <td>interact</td>\n",
       "      <td>10283</td>\n",
       "      <td>3714</td>\n",
       "      <td>42</td>\n",
       "      <td>0.011309</td>\n",
       "    </tr>\n",
       "    <tr>\n",
       "      <th>1</th>\n",
       "      <td>connect</td>\n",
       "      <td>2742</td>\n",
       "      <td>1587</td>\n",
       "      <td>53</td>\n",
       "      <td>0.033396</td>\n",
       "    </tr>\n",
       "    <tr>\n",
       "      <th>2</th>\n",
       "      <td>learn</td>\n",
       "      <td>2747</td>\n",
       "      <td>1652</td>\n",
       "      <td>21</td>\n",
       "      <td>0.012712</td>\n",
       "    </tr>\n",
       "    <tr>\n",
       "      <th>3</th>\n",
       "      <td>help</td>\n",
       "      <td>3180</td>\n",
       "      <td>1717</td>\n",
       "      <td>38</td>\n",
       "      <td>0.022132</td>\n",
       "    </tr>\n",
       "    <tr>\n",
       "      <th>4</th>\n",
       "      <td>services</td>\n",
       "      <td>2064</td>\n",
       "      <td>1348</td>\n",
       "      <td>45</td>\n",
       "      <td>0.033383</td>\n",
       "    </tr>\n",
       "  </tbody>\n",
       "</table>\n",
       "</div>"
      ],
      "text/plain": [
       "    variant  visits  clicks_all  clicks_link  conversion\n",
       "0  interact   10283        3714           42    0.011309\n",
       "1   connect    2742        1587           53    0.033396\n",
       "2     learn    2747        1652           21    0.012712\n",
       "3      help    3180        1717           38    0.022132\n",
       "4  services    2064        1348           45    0.033383"
      ]
     },
     "execution_count": 68,
     "metadata": {},
     "output_type": "execute_result"
    }
   ],
   "source": [
    "# informações extraídas dos arquivos obtidos no Google Analytics (Homepage Version 1~5)\n",
    "d = {'variant': ['interact', 'connect', 'learn', 'help', 'services'],\n",
    "     'visits': [10283, 2742, 2747, 3180, 2064],\n",
    "     'clicks_all': [3714, 1587, 1652, 1717, 1348],\n",
    "     'clicks_link': [42, 53, 21, 38, 45]}\n",
    "\n",
    "data = pd.DataFrame(d)\n",
    "data['conversion'] = data['clicks_link']/data['clicks_all']\n",
    "\n",
    "data"
   ]
  },
  {
   "cell_type": "markdown",
   "id": "41766305",
   "metadata": {},
   "source": [
    "# 1.0 Escolha do método"
   ]
  },
  {
   "cell_type": "markdown",
   "id": "0b02fee7",
   "metadata": {},
   "source": [
    "O método para identificar um efeito dentre as 4 variantes será: **A/B/n testing**"
   ]
  },
  {
   "cell_type": "markdown",
   "id": "fd6767bd",
   "metadata": {},
   "source": [
    "# 2.0 Design de Experimentos"
   ]
  },
  {
   "cell_type": "markdown",
   "id": "56d06ac2",
   "metadata": {},
   "source": [
    "## 2.1 Formulação das hipótese"
   ]
  },
  {
   "cell_type": "markdown",
   "id": "ef7898ab",
   "metadata": {},
   "source": [
    "Hipótese nula (H0): Não há diferença entre as variantes.\n",
    "\n",
    "Hipótese alternativa (H1): Há uma diferença entre as variantes."
   ]
  },
  {
   "cell_type": "markdown",
   "id": "4254754c",
   "metadata": {},
   "source": [
    "## 2.2 Parâmetros do experimento"
   ]
  },
  {
   "cell_type": "markdown",
   "id": "5db4f24a",
   "metadata": {
    "ExecuteTime": {
     "end_time": "2023-05-27T03:36:31.545784Z",
     "start_time": "2023-05-27T03:36:31.470996Z"
    }
   },
   "source": [
    "Nível de confiança do experimento: **95%**\n",
    "\n",
    "Métrica de avaliação: **CTR (Click-Through Rate)**\n",
    "\n",
    "    CTR = Total de Clicks no link / Total de Clicks na página\n",
    "    \n",
    "Poder Estatístico: **80%**"
   ]
  },
  {
   "cell_type": "code",
   "execution_count": 33,
   "id": "f46059ed",
   "metadata": {
    "ExecuteTime": {
     "end_time": "2023-05-27T06:02:35.895477Z",
     "start_time": "2023-05-27T06:02:35.887691Z"
    }
   },
   "outputs": [],
   "source": [
    "k = len(data['clicks_all'])\n",
    "\n",
    "# distribuição da probabilidade na hipotese nula\n",
    "expected_dist = [1/k]*k # a porcentagem de clicks não é diferente entre as variantes\n",
    "\n",
    "actual_dist = data['clicks_link']/data['clicks_link'].sum()"
   ]
  },
  {
   "cell_type": "code",
   "execution_count": 39,
   "id": "a93758d7",
   "metadata": {
    "ExecuteTime": {
     "end_time": "2023-05-27T06:40:06.785705Z",
     "start_time": "2023-05-27T06:40:06.760115Z"
    }
   },
   "outputs": [
    {
     "name": "stdout",
     "output_type": "stream",
     "text": [
      "Tamanho de Amostra Mínimo por Variante: 222\n",
      "Tamanho de Amostra Total: 1110\n"
     ]
    }
   ],
   "source": [
    "# nível de significância\n",
    "alpha = 0.05\n",
    "\n",
    "# poder estatístico\n",
    "power = 0.80\n",
    "\n",
    "# tamanho do efeito - Efeito Qui Quadrado\n",
    "effect_size = chisquare_effectsize(expected_dist, actual_dist)\n",
    "\n",
    "# Tamanho da amostra para uma variante\n",
    "sample_size = TTestIndPower().solve_power(\n",
    "    effect_size=effect_size,\n",
    "    power=power,\n",
    "    alpha=alpha\n",
    ")\n",
    "\n",
    "sample_size = np.ceil(sample_size).astype(int)\n",
    "print(f'Tamanho de Amostra Mínimo por Variante: {sample_size}')\n",
    "print(f'Tamanho de Amostra Total: {sample_size*k}')"
   ]
  },
  {
   "cell_type": "markdown",
   "id": "fb7d427e",
   "metadata": {},
   "source": [
    "# 3.0 Aplicação do Teste Chi-Squared"
   ]
  },
  {
   "cell_type": "code",
   "execution_count": 43,
   "id": "63b07ca5",
   "metadata": {
    "ExecuteTime": {
     "end_time": "2023-05-27T07:59:19.942092Z",
     "start_time": "2023-05-27T07:59:19.929233Z"
    }
   },
   "outputs": [],
   "source": [
    "# calculando clicks que não foram no link\n",
    "data['no_clicks_link'] = data['clicks_all'] - data['clicks_link']\n",
    "df = data[['variant', 'no_clicks_link', 'clicks_link']]\n",
    "\n",
    "# criando a tabela de contingência\n",
    "df = df.set_index('variant')"
   ]
  },
  {
   "cell_type": "code",
   "execution_count": 51,
   "id": "d134022b",
   "metadata": {
    "ExecuteTime": {
     "end_time": "2023-05-27T08:28:04.553409Z",
     "start_time": "2023-05-27T08:28:04.533314Z"
    }
   },
   "outputs": [
    {
     "name": "stdout",
     "output_type": "stream",
     "text": [
      "Chi-Squared: 46.33660181942126 - p-value: 2.0959498129984563e-09\n",
      "A hipótese nula é rejeitada, há diferença significativa entre as variantes.\n"
     ]
    }
   ],
   "source": [
    "chi2, pvalue, dof, expected = stats.chi2_contingency(df)\n",
    "print(f'Chi-Squared: {chi2} - p-value: {pvalue}')\n",
    "\n",
    "if pvalue < alpha:\n",
    "    print(f'A hipótese nula é rejeitada, há diferença significativa entre as variantes.')\n",
    "else:\n",
    "    print('Não há dados suficientes para rejeitar a hipótese nula.')"
   ]
  },
  {
   "cell_type": "markdown",
   "id": "08ebae22",
   "metadata": {},
   "source": [
    "# 4.0 Post-hoc Testing"
   ]
  },
  {
   "cell_type": "code",
   "execution_count": 63,
   "id": "c852af54",
   "metadata": {
    "ExecuteTime": {
     "end_time": "2023-05-27T08:46:55.372496Z",
     "start_time": "2023-05-27T08:46:55.336290Z"
    }
   },
   "outputs": [],
   "source": [
    "all_combinations = list(combinations(df.index, 2))\n",
    "p_values = []\n",
    "\n",
    "# Aplicando o teste de qui quadrado para cada combinação possivel\n",
    "for comb in all_combinations:\n",
    "    new_df = df[(df.index == comb[0]) | (df.index == comb[1])]\n",
    "    chi2, pvalue, dof, ex = stats.chi2_contingency(new_df)\n",
    "    p_values.append(pvalue)\n",
    "    \n",
    "# Corrigindo o p-valor pela Correção de Bonferroni\n",
    "reject_list, corret_p_values = multipletests(p_values, method='bonferroni')[:2]"
   ]
  },
  {
   "cell_type": "code",
   "execution_count": 64,
   "id": "0e00c973",
   "metadata": {
    "ExecuteTime": {
     "end_time": "2023-05-27T08:46:55.547352Z",
     "start_time": "2023-05-27T08:46:55.513838Z"
    }
   },
   "outputs": [
    {
     "data": {
      "text/html": [
       "<div>\n",
       "<style scoped>\n",
       "    .dataframe tbody tr th:only-of-type {\n",
       "        vertical-align: middle;\n",
       "    }\n",
       "\n",
       "    .dataframe tbody tr th {\n",
       "        vertical-align: top;\n",
       "    }\n",
       "\n",
       "    .dataframe thead th {\n",
       "        text-align: right;\n",
       "    }\n",
       "</style>\n",
       "<table border=\"1\" class=\"dataframe\">\n",
       "  <thead>\n",
       "    <tr style=\"text-align: right;\">\n",
       "      <th></th>\n",
       "      <th>combinations</th>\n",
       "      <th>original_pvalue</th>\n",
       "      <th>correted_pvalue</th>\n",
       "      <th>reject</th>\n",
       "    </tr>\n",
       "  </thead>\n",
       "  <tbody>\n",
       "    <tr>\n",
       "      <th>0</th>\n",
       "      <td>(interact, connect)</td>\n",
       "      <td>5.367677e-08</td>\n",
       "      <td>5.367677e-07</td>\n",
       "      <td>True</td>\n",
       "    </tr>\n",
       "    <tr>\n",
       "      <th>1</th>\n",
       "      <td>(interact, learn)</td>\n",
       "      <td>7.616981e-01</td>\n",
       "      <td>1.000000e+00</td>\n",
       "      <td>False</td>\n",
       "    </tr>\n",
       "    <tr>\n",
       "      <th>2</th>\n",
       "      <td>(interact, help)</td>\n",
       "      <td>3.103059e-03</td>\n",
       "      <td>3.103059e-02</td>\n",
       "      <td>True</td>\n",
       "    </tr>\n",
       "    <tr>\n",
       "      <th>3</th>\n",
       "      <td>(interact, services)</td>\n",
       "      <td>1.798089e-07</td>\n",
       "      <td>1.798089e-06</td>\n",
       "      <td>True</td>\n",
       "    </tr>\n",
       "    <tr>\n",
       "      <th>4</th>\n",
       "      <td>(connect, learn)</td>\n",
       "      <td>1.329287e-04</td>\n",
       "      <td>1.329287e-03</td>\n",
       "      <td>True</td>\n",
       "    </tr>\n",
       "    <tr>\n",
       "      <th>5</th>\n",
       "      <td>(connect, help)</td>\n",
       "      <td>6.144184e-02</td>\n",
       "      <td>6.144184e-01</td>\n",
       "      <td>False</td>\n",
       "    </tr>\n",
       "    <tr>\n",
       "      <th>6</th>\n",
       "      <td>(connect, services)</td>\n",
       "      <td>1.000000e+00</td>\n",
       "      <td>1.000000e+00</td>\n",
       "      <td>False</td>\n",
       "    </tr>\n",
       "    <tr>\n",
       "      <th>7</th>\n",
       "      <td>(learn, help)</td>\n",
       "      <td>5.089582e-02</td>\n",
       "      <td>5.089582e-01</td>\n",
       "      <td>False</td>\n",
       "    </tr>\n",
       "    <tr>\n",
       "      <th>8</th>\n",
       "      <td>(learn, services)</td>\n",
       "      <td>2.037404e-04</td>\n",
       "      <td>2.037404e-03</td>\n",
       "      <td>True</td>\n",
       "    </tr>\n",
       "    <tr>\n",
       "      <th>9</th>\n",
       "      <td>(help, services)</td>\n",
       "      <td>7.301999e-02</td>\n",
       "      <td>7.301999e-01</td>\n",
       "      <td>False</td>\n",
       "    </tr>\n",
       "  </tbody>\n",
       "</table>\n",
       "</div>"
      ],
      "text/plain": [
       "           combinations  original_pvalue  correted_pvalue  reject\n",
       "0   (interact, connect)     5.367677e-08     5.367677e-07    True\n",
       "1     (interact, learn)     7.616981e-01     1.000000e+00   False\n",
       "2      (interact, help)     3.103059e-03     3.103059e-02    True\n",
       "3  (interact, services)     1.798089e-07     1.798089e-06    True\n",
       "4      (connect, learn)     1.329287e-04     1.329287e-03    True\n",
       "5       (connect, help)     6.144184e-02     6.144184e-01   False\n",
       "6   (connect, services)     1.000000e+00     1.000000e+00   False\n",
       "7         (learn, help)     5.089582e-02     5.089582e-01   False\n",
       "8     (learn, services)     2.037404e-04     2.037404e-03    True\n",
       "9      (help, services)     7.301999e-02     7.301999e-01   False"
      ]
     },
     "execution_count": 64,
     "metadata": {},
     "output_type": "execute_result"
    }
   ],
   "source": [
    "frame = {'combinations': all_combinations,\n",
    "         'original_pvalue': p_values,\n",
    "         'correted_pvalue': corret_p_values,\n",
    "         'reject': reject_list}\n",
    "\n",
    "# tabela com os p-valores originais e corrigidos de todas as combinações\n",
    "pd.DataFrame(frame)"
   ]
  },
  {
   "cell_type": "markdown",
   "id": "2698ce76",
   "metadata": {},
   "source": [
    "Com a tabela acima, observamos que há diferença significativa (rejeitamos a hipótese nula de que não há diferença) entre a página atual (Interact) e as páginas:\n",
    "* Connect\n",
    "* Help\n",
    "* Services\n",
    "\n",
    "Comparando as variantes que apresentaram diferença, vemos que **não há diferença significativa entre as variantes**.\n",
    "\n",
    "Assim, a recomendação para mudança da página segue a ordem de maior conversão e menor p-valor:\n",
    "1. Connect\n",
    "2. Services\n",
    "3. Help"
   ]
  },
  {
   "cell_type": "code",
   "execution_count": null,
   "id": "764161b2",
   "metadata": {},
   "outputs": [],
   "source": []
  }
 ],
 "metadata": {
  "kernelspec": {
   "display_name": "Python 3 (ipykernel)",
   "language": "python",
   "name": "python3"
  },
  "language_info": {
   "codemirror_mode": {
    "name": "ipython",
    "version": 3
   },
   "file_extension": ".py",
   "mimetype": "text/x-python",
   "name": "python",
   "nbconvert_exporter": "python",
   "pygments_lexer": "ipython3",
   "version": "3.10.7"
  }
 },
 "nbformat": 4,
 "nbformat_minor": 5
}
