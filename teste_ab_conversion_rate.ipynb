{
 "cells": [
  {
   "cell_type": "markdown",
   "id": "bd168166",
   "metadata": {},
   "source": [
    "# AB Testing"
   ]
  },
  {
   "cell_type": "markdown",
   "id": "2a7028af",
   "metadata": {},
   "source": [
    "A Electronic House é um comercio online ( e-commerce ) de produtos de informática\n",
    "para casas e escritórios. Os clientes podem comprar mouses, monitores, teclados,\n",
    "computadores, laptops, cabos HDMI, fones de ouvido, cameras webcam, entre\n",
    "outros, através de um site online e recebem os produtos no conforto de suas casas.\n",
    "\n",
    "O time de UX designers vem trabalhando em uma nova página de vendas, com o\n",
    "objetivo de aumentar a taxa de conversão de um produto da loja, um teclado bluetooth. O product manager (gerente de produto) disse que a taxa de conversão\n",
    "da página atual é de 13% em média, no último ano.\n",
    "\n",
    "O objetivo do product manager é aumentar a taxa de conversão em 2%, ou seja, a\n",
    "nova página de vendas, desenvolvida pelo time de UX, seria um sucesso se a sua\n",
    "taxa de conversão fosse de 15%.\n",
    "\n",
    "O teclado bluetooth possui um preço de venda de R$ 4.500,00 à vista ou parcelado\n",
    "em 12% sem juros no cartão de crédito.\n",
    "\n",
    "Antes de trocar a página de vendas antiga pela nova, o product manager gostaria\n",
    "de testar a efetividade da nova página em um grupo menor de clientes, a fim de\n",
    "correr menos riscos de queda da conversão, caso a página nova mostre uma\n",
    "conversão pior do que a página atual."
   ]
  },
  {
   "cell_type": "markdown",
   "id": "e85dce63",
   "metadata": {
    "heading_collapsed": true
   },
   "source": [
    "## 0.1. Imports"
   ]
  },
  {
   "cell_type": "code",
   "execution_count": 32,
   "id": "6b1eebaa",
   "metadata": {
    "ExecuteTime": {
     "end_time": "2023-05-21T20:40:55.545421Z",
     "start_time": "2023-05-21T20:40:55.530032Z"
    },
    "hidden": true
   },
   "outputs": [],
   "source": [
    "import math\n",
    "import pandas as pd\n",
    "import numpy as np\n",
    "\n",
    "from statsmodels.stats import api as sm\n",
    "from scipy.stats import chi2_contingency"
   ]
  },
  {
   "cell_type": "markdown",
   "id": "cfa7e335",
   "metadata": {
    "ExecuteTime": {
     "end_time": "2023-05-18T22:51:48.670494Z",
     "start_time": "2023-05-18T22:51:48.660834Z"
    }
   },
   "source": [
    "# 1.0 Load data"
   ]
  },
  {
   "cell_type": "code",
   "execution_count": 2,
   "id": "94e7d89f",
   "metadata": {
    "ExecuteTime": {
     "end_time": "2023-05-21T20:08:57.637101Z",
     "start_time": "2023-05-21T20:08:56.963358Z"
    }
   },
   "outputs": [],
   "source": [
    "data_raw = pd.read_csv('/datasets/ab_data.csv')"
   ]
  },
  {
   "cell_type": "code",
   "execution_count": 3,
   "id": "a2589852",
   "metadata": {
    "ExecuteTime": {
     "end_time": "2023-05-21T20:08:57.700783Z",
     "start_time": "2023-05-21T20:08:57.643531Z"
    }
   },
   "outputs": [
    {
     "data": {
      "text/html": [
       "<div>\n",
       "<style scoped>\n",
       "    .dataframe tbody tr th:only-of-type {\n",
       "        vertical-align: middle;\n",
       "    }\n",
       "\n",
       "    .dataframe tbody tr th {\n",
       "        vertical-align: top;\n",
       "    }\n",
       "\n",
       "    .dataframe thead th {\n",
       "        text-align: right;\n",
       "    }\n",
       "</style>\n",
       "<table border=\"1\" class=\"dataframe\">\n",
       "  <thead>\n",
       "    <tr style=\"text-align: right;\">\n",
       "      <th></th>\n",
       "      <th>user_id</th>\n",
       "      <th>timestamp</th>\n",
       "      <th>group</th>\n",
       "      <th>landing_page</th>\n",
       "      <th>converted</th>\n",
       "    </tr>\n",
       "  </thead>\n",
       "  <tbody>\n",
       "    <tr>\n",
       "      <th>0</th>\n",
       "      <td>851104</td>\n",
       "      <td>2017-01-21 22:11:48.556739</td>\n",
       "      <td>control</td>\n",
       "      <td>old_page</td>\n",
       "      <td>0</td>\n",
       "    </tr>\n",
       "    <tr>\n",
       "      <th>1</th>\n",
       "      <td>804228</td>\n",
       "      <td>2017-01-12 08:01:45.159739</td>\n",
       "      <td>control</td>\n",
       "      <td>old_page</td>\n",
       "      <td>0</td>\n",
       "    </tr>\n",
       "    <tr>\n",
       "      <th>2</th>\n",
       "      <td>661590</td>\n",
       "      <td>2017-01-11 16:55:06.154213</td>\n",
       "      <td>treatment</td>\n",
       "      <td>new_page</td>\n",
       "      <td>0</td>\n",
       "    </tr>\n",
       "    <tr>\n",
       "      <th>3</th>\n",
       "      <td>853541</td>\n",
       "      <td>2017-01-08 18:28:03.143765</td>\n",
       "      <td>treatment</td>\n",
       "      <td>new_page</td>\n",
       "      <td>0</td>\n",
       "    </tr>\n",
       "    <tr>\n",
       "      <th>4</th>\n",
       "      <td>864975</td>\n",
       "      <td>2017-01-21 01:52:26.210827</td>\n",
       "      <td>control</td>\n",
       "      <td>old_page</td>\n",
       "      <td>1</td>\n",
       "    </tr>\n",
       "    <tr>\n",
       "      <th>...</th>\n",
       "      <td>...</td>\n",
       "      <td>...</td>\n",
       "      <td>...</td>\n",
       "      <td>...</td>\n",
       "      <td>...</td>\n",
       "    </tr>\n",
       "    <tr>\n",
       "      <th>294473</th>\n",
       "      <td>751197</td>\n",
       "      <td>2017-01-03 22:28:38.630509</td>\n",
       "      <td>control</td>\n",
       "      <td>old_page</td>\n",
       "      <td>0</td>\n",
       "    </tr>\n",
       "    <tr>\n",
       "      <th>294474</th>\n",
       "      <td>945152</td>\n",
       "      <td>2017-01-12 00:51:57.078372</td>\n",
       "      <td>control</td>\n",
       "      <td>old_page</td>\n",
       "      <td>0</td>\n",
       "    </tr>\n",
       "    <tr>\n",
       "      <th>294475</th>\n",
       "      <td>734608</td>\n",
       "      <td>2017-01-22 11:45:03.439544</td>\n",
       "      <td>control</td>\n",
       "      <td>old_page</td>\n",
       "      <td>0</td>\n",
       "    </tr>\n",
       "    <tr>\n",
       "      <th>294476</th>\n",
       "      <td>697314</td>\n",
       "      <td>2017-01-15 01:20:28.957438</td>\n",
       "      <td>control</td>\n",
       "      <td>old_page</td>\n",
       "      <td>0</td>\n",
       "    </tr>\n",
       "    <tr>\n",
       "      <th>294477</th>\n",
       "      <td>715931</td>\n",
       "      <td>2017-01-16 12:40:24.467417</td>\n",
       "      <td>treatment</td>\n",
       "      <td>new_page</td>\n",
       "      <td>0</td>\n",
       "    </tr>\n",
       "  </tbody>\n",
       "</table>\n",
       "<p>294478 rows × 5 columns</p>\n",
       "</div>"
      ],
      "text/plain": [
       "        user_id                   timestamp      group landing_page  converted\n",
       "0        851104  2017-01-21 22:11:48.556739    control     old_page          0\n",
       "1        804228  2017-01-12 08:01:45.159739    control     old_page          0\n",
       "2        661590  2017-01-11 16:55:06.154213  treatment     new_page          0\n",
       "3        853541  2017-01-08 18:28:03.143765  treatment     new_page          0\n",
       "4        864975  2017-01-21 01:52:26.210827    control     old_page          1\n",
       "...         ...                         ...        ...          ...        ...\n",
       "294473   751197  2017-01-03 22:28:38.630509    control     old_page          0\n",
       "294474   945152  2017-01-12 00:51:57.078372    control     old_page          0\n",
       "294475   734608  2017-01-22 11:45:03.439544    control     old_page          0\n",
       "294476   697314  2017-01-15 01:20:28.957438    control     old_page          0\n",
       "294477   715931  2017-01-16 12:40:24.467417  treatment     new_page          0\n",
       "\n",
       "[294478 rows x 5 columns]"
      ]
     },
     "execution_count": 3,
     "metadata": {},
     "output_type": "execute_result"
    }
   ],
   "source": [
    "data_raw"
   ]
  },
  {
   "cell_type": "markdown",
   "id": "5f52e15e",
   "metadata": {},
   "source": [
    "# 2.0 Design de Experimentos"
   ]
  },
  {
   "cell_type": "markdown",
   "id": "9a5e8a66",
   "metadata": {},
   "source": [
    "## 2.1 Formulação das Hipóteses"
   ]
  },
  {
   "cell_type": "markdown",
   "id": "c5a40d2f",
   "metadata": {},
   "source": [
    "H0: A conversão da nova página é de 13%\n",
    "\n",
    "H1: A conversão da nova página é diferente de 13%"
   ]
  },
  {
   "cell_type": "markdown",
   "id": "021c6885",
   "metadata": {},
   "source": [
    "## 2.2 Parâmetros do Experimento"
   ]
  },
  {
   "cell_type": "code",
   "execution_count": 4,
   "id": "b17fcf3e",
   "metadata": {
    "ExecuteTime": {
     "end_time": "2023-05-21T20:08:57.715382Z",
     "start_time": "2023-05-21T20:08:57.706851Z"
    }
   },
   "outputs": [],
   "source": [
    "# nível de confiança\n",
    "confidence_level = 0.95\n",
    "\n",
    "# nível de significância\n",
    "significance_level = 0.05\n",
    "\n",
    "# conversões da página nova e página atual\n",
    "p1 = 0.15\n",
    "p2 = 0.13\n",
    "\n",
    "# tamanho do efeito\n",
    "effect_size = sm.proportion_effectsize(p1, p2)\n",
    "\n",
    "# poder estatístico\n",
    "power = 0.80"
   ]
  },
  {
   "cell_type": "code",
   "execution_count": 5,
   "id": "11e71556",
   "metadata": {
    "ExecuteTime": {
     "end_time": "2023-05-21T20:08:57.795994Z",
     "start_time": "2023-05-21T20:08:57.730287Z"
    }
   },
   "outputs": [
    {
     "data": {
      "text/plain": [
       "4720"
      ]
     },
     "execution_count": 5,
     "metadata": {},
     "output_type": "execute_result"
    }
   ],
   "source": [
    "# sample size\n",
    "sample_n = math.ceil(sm.NormalIndPower().solve_power(\n",
    "    effect_size,\n",
    "    power=power,\n",
    "    alpha=significance_level\n",
    "))\n",
    "sample_n"
   ]
  },
  {
   "cell_type": "code",
   "execution_count": 6,
   "id": "290a1eb3",
   "metadata": {
    "ExecuteTime": {
     "end_time": "2023-05-21T20:08:57.833605Z",
     "start_time": "2023-05-21T20:08:57.810422Z"
    }
   },
   "outputs": [
    {
     "name": "stdout",
     "output_type": "stream",
     "text": [
      "O tamanho da amostra do a ser coletado de ambos os grupos é de :4720\n",
      "Tamanho total da amostra: 9440\n"
     ]
    }
   ],
   "source": [
    "print(f'O tamanho da amostra do a ser coletado de ambos os grupos é de :{sample_n}')\n",
    "print(f'Tamanho total da amostra: {2*sample_n}')"
   ]
  },
  {
   "cell_type": "markdown",
   "id": "92777b41",
   "metadata": {},
   "source": [
    "# 3.0 Análise descritiva dos dados"
   ]
  },
  {
   "cell_type": "code",
   "execution_count": 7,
   "id": "c03ac1c1",
   "metadata": {
    "ExecuteTime": {
     "end_time": "2023-05-21T20:08:57.850526Z",
     "start_time": "2023-05-21T20:08:57.837791Z"
    }
   },
   "outputs": [
    {
     "name": "stdout",
     "output_type": "stream",
     "text": [
      "Number of rows: 294478\n",
      "Number of columns: 5\n"
     ]
    }
   ],
   "source": [
    "print(f'Number of rows: {data_raw.shape[0]}')      \n",
    "print(f'Number of columns: {data_raw.shape[1]}')"
   ]
  },
  {
   "cell_type": "markdown",
   "id": "5adaab77",
   "metadata": {
    "heading_collapsed": true
   },
   "source": [
    "## Verificação dos dados faltantes"
   ]
  },
  {
   "cell_type": "code",
   "execution_count": 8,
   "id": "1b1bba07",
   "metadata": {
    "ExecuteTime": {
     "end_time": "2023-05-21T20:08:58.198712Z",
     "start_time": "2023-05-21T20:08:57.856173Z"
    },
    "hidden": true
   },
   "outputs": [
    {
     "data": {
      "text/plain": [
       "user_id         0\n",
       "timestamp       0\n",
       "group           0\n",
       "landing_page    0\n",
       "converted       0\n",
       "dtype: int64"
      ]
     },
     "execution_count": 8,
     "metadata": {},
     "output_type": "execute_result"
    }
   ],
   "source": [
    "data_raw.isna().sum()"
   ]
  },
  {
   "cell_type": "markdown",
   "id": "d1f52bca",
   "metadata": {},
   "source": [
    "## Conferir as \"flags\" do teste A"
   ]
  },
  {
   "cell_type": "code",
   "execution_count": 9,
   "id": "af96e9c9",
   "metadata": {
    "ExecuteTime": {
     "end_time": "2023-05-21T20:08:58.421572Z",
     "start_time": "2023-05-21T20:08:58.204087Z"
    }
   },
   "outputs": [
    {
     "data": {
      "text/html": [
       "<div>\n",
       "<style scoped>\n",
       "    .dataframe tbody tr th:only-of-type {\n",
       "        vertical-align: middle;\n",
       "    }\n",
       "\n",
       "    .dataframe tbody tr th {\n",
       "        vertical-align: top;\n",
       "    }\n",
       "\n",
       "    .dataframe thead th {\n",
       "        text-align: right;\n",
       "    }\n",
       "</style>\n",
       "<table border=\"1\" class=\"dataframe\">\n",
       "  <thead>\n",
       "    <tr style=\"text-align: right;\">\n",
       "      <th></th>\n",
       "      <th>group</th>\n",
       "      <th>landing_page</th>\n",
       "      <th>user_id</th>\n",
       "    </tr>\n",
       "  </thead>\n",
       "  <tbody>\n",
       "    <tr>\n",
       "      <th>0</th>\n",
       "      <td>control</td>\n",
       "      <td>new_page</td>\n",
       "      <td>1928</td>\n",
       "    </tr>\n",
       "    <tr>\n",
       "      <th>1</th>\n",
       "      <td>control</td>\n",
       "      <td>old_page</td>\n",
       "      <td>145274</td>\n",
       "    </tr>\n",
       "    <tr>\n",
       "      <th>2</th>\n",
       "      <td>treatment</td>\n",
       "      <td>new_page</td>\n",
       "      <td>145311</td>\n",
       "    </tr>\n",
       "    <tr>\n",
       "      <th>3</th>\n",
       "      <td>treatment</td>\n",
       "      <td>old_page</td>\n",
       "      <td>1965</td>\n",
       "    </tr>\n",
       "  </tbody>\n",
       "</table>\n",
       "</div>"
      ],
      "text/plain": [
       "       group landing_page  user_id\n",
       "0    control     new_page     1928\n",
       "1    control     old_page   145274\n",
       "2  treatment     new_page   145311\n",
       "3  treatment     old_page     1965"
      ]
     },
     "execution_count": 9,
     "metadata": {},
     "output_type": "execute_result"
    }
   ],
   "source": [
    "data_raw[['user_id', 'group', 'landing_page']].groupby(['group', 'landing_page']).count().reset_index()"
   ]
  },
  {
   "cell_type": "markdown",
   "id": "f11cd35c",
   "metadata": {
    "heading_collapsed": true
   },
   "source": [
    "## Removendo flags duplicadas"
   ]
  },
  {
   "cell_type": "code",
   "execution_count": 10,
   "id": "1d893dcc",
   "metadata": {
    "ExecuteTime": {
     "end_time": "2023-05-21T20:08:58.831215Z",
     "start_time": "2023-05-21T20:08:58.436905Z"
    },
    "hidden": true
   },
   "outputs": [],
   "source": [
    "# grouping users flags and removing the ones with more than more\n",
    "data_users_delete = data_raw[['user_id', \n",
    "                              'group']].groupby('user_id').count().reset_index().query('group > 1')['user_id']\n",
    "\n",
    "# selecting only users with one flag\n",
    "df1 = data_raw[~data_raw['user_id'].isin(data_users_delete)]"
   ]
  },
  {
   "cell_type": "markdown",
   "id": "44b398b1",
   "metadata": {},
   "source": [
    "## Amostragem dos grupos de tratamento e controle"
   ]
  },
  {
   "cell_type": "code",
   "execution_count": 11,
   "id": "511ecddf",
   "metadata": {
    "ExecuteTime": {
     "end_time": "2023-05-21T20:08:59.022540Z",
     "start_time": "2023-05-21T20:08:58.835053Z"
    },
    "scrolled": true
   },
   "outputs": [
    {
     "name": "stdout",
     "output_type": "stream",
     "text": [
      "Size of Control Group :4720\n",
      "Size of Treatment Group: 4720\n"
     ]
    }
   ],
   "source": [
    "# Control group\n",
    "df_control_sample = df1[df1['group'] == 'control'].sample(n=sample_n, random_state=7)\n",
    "print(f'Size of Control Group :{df_control_sample.shape[0]}')\n",
    "\n",
    "# Treatment group\n",
    "df_treatment_sample = df1[df1['group'] == 'treatment'].sample(n=sample_n, random_state=7)\n",
    "print(f'Size of Treatment Group: {df_treatment_sample.shape[0]}')\n",
    "\n",
    "# Total sample\n",
    "df_ab = pd.concat([df_control_sample, df_treatment_sample]).reset_index(drop=True)"
   ]
  },
  {
   "cell_type": "markdown",
   "id": "6a6612fc",
   "metadata": {},
   "source": [
    "## Cálculo da métrica de interesse"
   ]
  },
  {
   "cell_type": "code",
   "execution_count": 13,
   "id": "bf227c97",
   "metadata": {
    "ExecuteTime": {
     "end_time": "2023-05-21T20:09:08.566318Z",
     "start_time": "2023-05-21T20:09:08.540249Z"
    }
   },
   "outputs": [
    {
     "name": "stdout",
     "output_type": "stream",
     "text": [
      "Conversion Rate - Control Group : 0.12521186440677967\n",
      "Conversion Rate - Treatment Group : 0.12033898305084746\n"
     ]
    }
   ],
   "source": [
    "# Control group convertion\n",
    "conversion_rate_control = df_control_sample['converted'].mean()\n",
    "print(f'Conversion Rate - Control Group : {conversion_rate_control}')\n",
    "\n",
    "# Treatment group convertion\n",
    "conversion_rate_treatment = df_treatment_sample['converted'].mean()\n",
    "print(f'Conversion Rate - Treatment Group : {conversion_rate_treatment}')"
   ]
  },
  {
   "cell_type": "markdown",
   "id": "d84a2f97",
   "metadata": {},
   "source": [
    "# 4.0 Teste de Hipóteses"
   ]
  },
  {
   "cell_type": "code",
   "execution_count": 21,
   "id": "b9d05c9a",
   "metadata": {
    "ExecuteTime": {
     "end_time": "2023-05-21T20:20:10.389331Z",
     "start_time": "2023-05-21T20:20:10.348964Z"
    }
   },
   "outputs": [
    {
     "data": {
      "text/html": [
       "<div>\n",
       "<style scoped>\n",
       "    .dataframe tbody tr th:only-of-type {\n",
       "        vertical-align: middle;\n",
       "    }\n",
       "\n",
       "    .dataframe tbody tr th {\n",
       "        vertical-align: top;\n",
       "    }\n",
       "\n",
       "    .dataframe thead th {\n",
       "        text-align: right;\n",
       "    }\n",
       "</style>\n",
       "<table border=\"1\" class=\"dataframe\">\n",
       "  <thead>\n",
       "    <tr style=\"text-align: right;\">\n",
       "      <th></th>\n",
       "      <th>not_converted</th>\n",
       "      <th>converted</th>\n",
       "    </tr>\n",
       "    <tr>\n",
       "      <th>group</th>\n",
       "      <th></th>\n",
       "      <th></th>\n",
       "    </tr>\n",
       "  </thead>\n",
       "  <tbody>\n",
       "    <tr>\n",
       "      <th>control</th>\n",
       "      <td>4129</td>\n",
       "      <td>591</td>\n",
       "    </tr>\n",
       "    <tr>\n",
       "      <th>treatment</th>\n",
       "      <td>4152</td>\n",
       "      <td>568</td>\n",
       "    </tr>\n",
       "  </tbody>\n",
       "</table>\n",
       "</div>"
      ],
      "text/plain": [
       "           not_converted  converted\n",
       "group                              \n",
       "control             4129        591\n",
       "treatment           4152        568"
      ]
     },
     "execution_count": 21,
     "metadata": {},
     "output_type": "execute_result"
    }
   ],
   "source": [
    "df_table = pd.crosstab(index=df_ab['group'], columns=df_ab['converted'])\n",
    "df_table.columns = ['not_converted', 'converted']\n",
    "df_table"
   ]
  },
  {
   "cell_type": "code",
   "execution_count": 23,
   "id": "397e9701",
   "metadata": {
    "ExecuteTime": {
     "end_time": "2023-05-21T20:21:34.083710Z",
     "start_time": "2023-05-21T20:21:34.067142Z"
    }
   },
   "outputs": [
    {
     "name": "stdout",
     "output_type": "stream",
     "text": [
      "p-value : 0.49021768956704426\n",
      "Falha em rejeitar a hipótese nula\n"
     ]
    }
   ],
   "source": [
    "chi_val, pvalue, dof, expected = chi2_contingency(df_table)\n",
    "\n",
    "print(f'p-value : {pvalue}')\n",
    "\n",
    "if pvalue < significance_level:\n",
    "    print('Rejeita a hipótese nula')\n",
    "else:\n",
    "    print('Falha em rejeitar a hipótese nula')"
   ]
  },
  {
   "cell_type": "markdown",
   "id": "d42bb214",
   "metadata": {},
   "source": [
    "Com os dados coletados não é possível afirmar que a diferença é significante.\n",
    "\n",
    "As opções para seguir com o teste são:\n",
    "* Coletar mais dados\n",
    "* Melhorar o efeito aprimorando a página"
   ]
  },
  {
   "cell_type": "markdown",
   "id": "0e6523f7",
   "metadata": {},
   "source": [
    "# 5.0 Conversão da página em faturamento"
   ]
  },
  {
   "cell_type": "markdown",
   "id": "ba4f3a7e",
   "metadata": {},
   "source": [
    "Considerando o ticket de R$ 4.500,00, podemos verificar qual seria o faturamento caso o teste da página fosse bem sucedido."
   ]
  },
  {
   "cell_type": "code",
   "execution_count": 24,
   "id": "49621791",
   "metadata": {
    "ExecuteTime": {
     "end_time": "2023-05-21T20:33:14.489555Z",
     "start_time": "2023-05-21T20:33:14.467543Z"
    }
   },
   "outputs": [],
   "source": [
    "df3 = df1.copy()"
   ]
  },
  {
   "cell_type": "code",
   "execution_count": 26,
   "id": "b2907799",
   "metadata": {
    "ExecuteTime": {
     "end_time": "2023-05-21T20:35:39.055549Z",
     "start_time": "2023-05-21T20:35:36.461677Z"
    }
   },
   "outputs": [],
   "source": [
    "# converting timestamp to year-month-day format\n",
    "df3['timestamp'] = pd.to_datetime(df3['timestamp']).apply(lambda x: x.strftime('%Y-%m-%d'))\n",
    "\n",
    "df_date = df3[['user_id', 'timestamp']].groupby('timestamp').count().reset_index()"
   ]
  },
  {
   "cell_type": "code",
   "execution_count": 39,
   "id": "44b29843",
   "metadata": {
    "ExecuteTime": {
     "end_time": "2023-05-21T20:59:46.425151Z",
     "start_time": "2023-05-21T20:59:46.399557Z"
    }
   },
   "outputs": [
    {
     "name": "stdout",
     "output_type": "stream",
     "text": [
      "GMV on period: 167760000\n",
      "New GMV on period: 193563000\n",
      "Abs Lift: 25803000\n",
      "Expected Lift: 15.38%\n"
     ]
    }
   ],
   "source": [
    "df_date['current_conversions'] = np.ceil(df_date['user_id']*0.13).astype(int)\n",
    "df_date['current_GMV'] = df_date['current_conversions']*4500\n",
    "\n",
    "df_date['new_conversions'] = np.ceil(df_date['user_id']*0.15).astype(int)\n",
    "df_date['new_GMV'] = df_date['new_conversions']*4500\n",
    "\n",
    "current_gmv = df_date['current_GMV'].sum()\n",
    "new_gmv = df_date['new_GMV'].sum()\n",
    "\n",
    "print('GMV on period: {}'.format(current_gmv))\n",
    "print('New GMV on period: {}'.format(new_gmv))\n",
    "\n",
    "lift_abs = new_gmv-current_gmv\n",
    "lift = 100*(new_gmv-current_gmv)/current_gmv\n",
    "\n",
    "print(f'Abs Lift: {lift_abs}')\n",
    "print(f'Expected Lift: {lift:.2f}%')"
   ]
  },
  {
   "cell_type": "markdown",
   "id": "d72aa9b6",
   "metadata": {},
   "source": [
    "Considerando o aumento da conversão para 15% poderíamos esperar um aumento de 15,38% no GMV."
   ]
  }
 ],
 "metadata": {
  "kernelspec": {
   "display_name": "Python 3 (ipykernel)",
   "language": "python",
   "name": "python3"
  },
  "language_info": {
   "codemirror_mode": {
    "name": "ipython",
    "version": 3
   },
   "file_extension": ".py",
   "mimetype": "text/x-python",
   "name": "python",
   "nbconvert_exporter": "python",
   "pygments_lexer": "ipython3",
   "version": "3.10.7"
  }
 },
 "nbformat": 4,
 "nbformat_minor": 5
}
